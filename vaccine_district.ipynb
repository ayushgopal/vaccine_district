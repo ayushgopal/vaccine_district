{
 "cells": [
  {
   "cell_type": "code",
   "execution_count": 120,
   "metadata": {},
   "outputs": [],
   "source": [
    "import time\n",
    "import requests\n",
    "mylist=[]\n",
    "base_url=\"https://cdn-api.co-vin.in/api/v2/appointment/sessions/public/findByDistrict?district_id={}&date=14-05-2021\"\n",
    "def get_url(search_term):\n",
    "    template=base_url\n",
    "    search_term=search_term.replace(' ','+')\n",
    "    return template.format(search_term)\n",
    "\n",
    "headers={\n",
    "\"Accept\":\"text/html,application/xhtml+xml,application/xml;q=0.9,image/webp,*/*;q=0.8\",\n",
    "\"Host\":\"cdn-api.co-vin.in\",\n",
    "\"User-Agent\":\"Mozilla/5.0 (Windows NT 10.0; Win64; x64; rv:88.0) Gecko/20100101 Firefox/88.0\"}\n",
    "time.sleep(100)\n",
    " "
   ]
  },
  {
   "cell_type": "code",
   "execution_count": 121,
   "metadata": {},
   "outputs": [],
   "source": [
    "\n",
    "for i in range(1,100):\n",
    " response=requests.get(get_url(str('{0:3}'.format(i))),headers=headers)\n",
    " html=response.json()\n",
    " html=html[\"sessions\"]\n",
    " if len(html)==0:\n",
    "   continue\n",
    " for j in range(0,len(html)):\n",
    "    if html[j][\"min_age_limit\"]==18:\n",
    "        mylist.append(html[j][\"district_name\"])\n",
    "    \n",
    "time.sleep(100)\n",
    "\n",
    " "
   ]
  },
  {
   "cell_type": "code",
   "execution_count": 122,
   "metadata": {},
   "outputs": [],
   "source": [
    "for i in range(100,200):\n",
    " response=requests.get(get_url(str('{0:3}'.format(i))),headers=headers)\n",
    " html=response.json()\n",
    " html=html[\"sessions\"]\n",
    " if len(html)==0:\n",
    "   continue\n",
    " for j in range(0,len(html)):\n",
    "    if html[j][\"min_age_limit\"]==18:\n",
    "        mylist.append(html[j][\"district_name\"])\n",
    "time.sleep(100) \n",
    " "
   ]
  },
  {
   "cell_type": "code",
   "execution_count": 124,
   "metadata": {},
   "outputs": [],
   "source": [
    "for i in range(200,300):\n",
    " response=requests.get(get_url(str('{0:3}'.format(i))),headers=headers)\n",
    " html=response.json()\n",
    " html=html[\"sessions\"]\n",
    " if len(html)==0:\n",
    "   continue\n",
    " for j in range(0,len(html)):\n",
    "    if html[j][\"min_age_limit\"]==18:\n",
    "        mylist.append(html[j][\"district_name\"])\n",
    "    \n",
    "time.sleep(100)"
   ]
  },
  {
   "cell_type": "code",
   "execution_count": 125,
   "metadata": {},
   "outputs": [],
   "source": [
    "for i in range(300,400):\n",
    " response=requests.get(get_url(str('{0:3}'.format(i))),headers=headers)\n",
    " html=response.json()\n",
    " html=html[\"sessions\"]\n",
    " if len(html)==0:\n",
    "   continue\n",
    " for j in range(0,len(html)):\n",
    "    if html[j][\"min_age_limit\"]==18:\n",
    "        mylist.append(html[j][\"district_name\"])\n",
    "    \n",
    "time.sleep(100)"
   ]
  },
  {
   "cell_type": "code",
   "execution_count": 126,
   "metadata": {},
   "outputs": [],
   "source": [
    "for i in range(400,500):\n",
    " response=requests.get(get_url(str('{0:3}'.format(i))),headers=headers)\n",
    " html=response.json()\n",
    " html=html[\"sessions\"]\n",
    " if len(html)==0:\n",
    "   continue\n",
    " for j in range(0,len(html)):\n",
    "    if html[j][\"min_age_limit\"]==18:\n",
    "        mylist.append(html[j][\"district_name\"])\n",
    "    \n",
    "time.sleep(100) "
   ]
  },
  {
   "cell_type": "code",
   "execution_count": 127,
   "metadata": {},
   "outputs": [],
   "source": [
    "for i in range(500,600):\n",
    " response=requests.get(get_url(str('{0:3}'.format(i))),headers=headers)\n",
    " html=response.json()\n",
    " html=html[\"sessions\"]\n",
    " if len(html)==0:\n",
    "   continue\n",
    " for j in range(0,len(html)):\n",
    "    if html[j][\"min_age_limit\"]==18:\n",
    "        mylist.append(html[j][\"district_name\"])\n",
    "    \n",
    "time.sleep(100)"
   ]
  },
  {
   "cell_type": "code",
   "execution_count": 128,
   "metadata": {},
   "outputs": [],
   "source": [
    "for i in range(600,700):\n",
    " response=requests.get(get_url(str('{0:3}'.format(i))),headers=headers)\n",
    " html=response.json()\n",
    " html=html[\"sessions\"]\n",
    " if len(html)==0:\n",
    "   continue\n",
    " for j in range(0,len(html)):\n",
    "    if html[j][\"min_age_limit\"]==18:\n",
    "        mylist.append(html[j][\"district_name\"])\n",
    "    \n",
    "time.sleep(100) "
   ]
  },
  {
   "cell_type": "code",
   "execution_count": 131,
   "metadata": {},
   "outputs": [],
   "source": [
    "for i in range(700,750):\n",
    " response=requests.get(get_url(str('{0:3}'.format(i))),headers=headers)\n",
    " html=response.json()\n",
    " html=html[\"sessions\"]\n",
    " if len(html)==0:\n",
    "   continue\n",
    " for j in range(0,len(html)):\n",
    "    if html[j][\"min_age_limit\"]==18:\n",
    "        mylist.append(html[j][\"district_name\"])\n",
    "time.sleep(100)    "
   ]
  },
  {
   "cell_type": "code",
   "execution_count": null,
   "metadata": {},
   "outputs": [],
   "source": []
  },
  {
   "cell_type": "code",
   "execution_count": null,
   "metadata": {},
   "outputs": [],
   "source": []
  },
  {
   "cell_type": "code",
   "execution_count": null,
   "metadata": {},
   "outputs": [],
   "source": [
    "\n",
    "\n"
   ]
  },
  {
   "cell_type": "code",
   "execution_count": null,
   "metadata": {},
   "outputs": [],
   "source": []
  },
  {
   "cell_type": "code",
   "execution_count": null,
   "metadata": {},
   "outputs": [],
   "source": []
  },
  {
   "cell_type": "code",
   "execution_count": null,
   "metadata": {},
   "outputs": [],
   "source": []
  },
  {
   "cell_type": "code",
   "execution_count": null,
   "metadata": {},
   "outputs": [],
   "source": [
    "\n"
   ]
  },
  {
   "cell_type": "code",
   "execution_count": null,
   "metadata": {},
   "outputs": [],
   "source": []
  },
  {
   "cell_type": "code",
   "execution_count": null,
   "metadata": {},
   "outputs": [],
   "source": []
  },
  {
   "cell_type": "code",
   "execution_count": 135,
   "metadata": {},
   "outputs": [
    {
     "name": "stdout",
     "output_type": "stream",
     "text": [
      "{'Simdega', 'Latehar', 'Gurdaspur', 'Kallakurichi', 'Palamu', 'Giridih', 'Chatra', 'Hazaribagh', 'West Singhbhum', 'Gaya', 'Kaimur', 'Garhwa', 'Deoghar', 'Siwan', 'Seraikela Kharsawan', 'Godda', 'South Garo Hills', 'Banka', 'Pakur', 'Khunti', 'Dumka', 'Jashpur', 'Lohardaga', 'Sahebganj', 'Almora', 'Begusarai', 'Gumla', 'Jamtara'}\n"
     ]
    }
   ],
   "source": [
    "print(set(mylist)\n",
    "     )"
   ]
  },
  {
   "cell_type": "code",
   "execution_count": 136,
   "metadata": {},
   "outputs": [
    {
     "ename": "ModuleNotFoundError",
     "evalue": "No module named 'fpdf'",
     "output_type": "error",
     "traceback": [
      "\u001b[1;31m---------------------------------------------------------------------------\u001b[0m",
      "\u001b[1;31mModuleNotFoundError\u001b[0m                       Traceback (most recent call last)",
      "\u001b[1;32m<ipython-input-136-dbd00455eb63>\u001b[0m in \u001b[0;36m<module>\u001b[1;34m\u001b[0m\n\u001b[1;32m----> 1\u001b[1;33m \u001b[1;32mfrom\u001b[0m \u001b[0mfpdf\u001b[0m \u001b[1;32mimport\u001b[0m \u001b[0mFPDF\u001b[0m\u001b[1;33m\u001b[0m\u001b[1;33m\u001b[0m\u001b[0m\n\u001b[0m\u001b[0;32m      2\u001b[0m \u001b[1;33m\u001b[0m\u001b[0m\n\u001b[0;32m      3\u001b[0m \u001b[1;33m\u001b[0m\u001b[0m\n\u001b[0;32m      4\u001b[0m \u001b[1;33m\u001b[0m\u001b[0m\n\u001b[0;32m      5\u001b[0m \u001b[0mpdf\u001b[0m \u001b[1;33m=\u001b[0m \u001b[0mFPDF\u001b[0m\u001b[1;33m(\u001b[0m\u001b[1;33m)\u001b[0m\u001b[1;33m\u001b[0m\u001b[1;33m\u001b[0m\u001b[0m\n",
      "\u001b[1;31mModuleNotFoundError\u001b[0m: No module named 'fpdf'"
     ]
    }
   ],
   "source": []
  },
  {
   "cell_type": "code",
   "execution_count": null,
   "metadata": {},
   "outputs": [],
   "source": []
  }
 ],
 "metadata": {
  "kernelspec": {
   "display_name": "Python 3",
   "language": "python",
   "name": "python3"
  },
  "language_info": {
   "codemirror_mode": {
    "name": "ipython",
    "version": 3
   },
   "file_extension": ".py",
   "mimetype": "text/x-python",
   "name": "python",
   "nbconvert_exporter": "python",
   "pygments_lexer": "ipython3",
   "version": "3.8.5"
  }
 },
 "nbformat": 4,
 "nbformat_minor": 4
}
